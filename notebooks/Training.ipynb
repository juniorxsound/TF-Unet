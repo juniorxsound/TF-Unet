{
 "cells": [
  {
   "cell_type": "markdown",
   "metadata": {},
   "source": [
    "### Imports 🛂"
   ]
  },
  {
   "cell_type": "code",
   "execution_count": 1,
   "metadata": {},
   "outputs": [],
   "source": [
    "# Add root project folder to path\n",
    "import sys\n",
    "sys.path.append('../')\n",
    "\n",
    "# Dependencies\n",
    "import numpy as np\n",
    "from datetime import datetime\n",
    "from tensorflow import keras\n",
    "import matplotlib.pyplot as plt\n",
    "%matplotlib inline\n",
    "\n",
    "# Components\n",
    "from unet.dataset import ShapesDataset\n",
    "from unet.unet import UNet"
   ]
  },
  {
   "cell_type": "markdown",
   "metadata": {},
   "source": [
    "### Define some of the training parameters 🏋"
   ]
  },
  {
   "cell_type": "code",
   "execution_count": 2,
   "metadata": {},
   "outputs": [],
   "source": [
    "TRAIN_NUM_EXAMPLES = 100\n",
    "IMAGE_WIDTH, IMAGE_HEIGHT, NUM_CHANNELS = 256, 256, 3\n",
    "NUM_EPOCHS = 1\n",
    "BATCH_SIZE = 1"
   ]
  },
  {
   "cell_type": "markdown",
   "metadata": {},
   "source": [
    "### Create the synthetic shape dataset 🧪\n",
    "Dataset module thanks to [Mask-RCNN](https://github.com/matterport/Mask_RCNN/blob/master/samples/shapes/train_shapes.ipynb) by Matterport"
   ]
  },
  {
   "cell_type": "code",
   "execution_count": 3,
   "metadata": {},
   "outputs": [],
   "source": [
    "dataset_train = ShapesDataset()\n",
    "dataset_train.load_shapes(TRAIN_NUM_EXAMPLES, IMAGE_HEIGHT, IMAGE_WIDTH)\n",
    "dataset_train.prepare()"
   ]
  },
  {
   "cell_type": "markdown",
   "metadata": {},
   "source": [
    "### Organize the dataset into two numpy arrays ✈ \n",
    "And treshold the segmentation masks to get an alpha image"
   ]
  },
  {
   "cell_type": "code",
   "execution_count": 4,
   "metadata": {},
   "outputs": [
    {
     "name": "stderr",
     "output_type": "stream",
     "text": [
      "/usr/local/lib/python3.6/dist-packages/ipykernel_launcher.py:10: DeprecationWarning: Both axis > a.ndim and axis < -a.ndim - 1 are deprecated and will raise an AxisError in the future.\n",
      "  # Remove the CWD from sys.path while we load stuff.\n"
     ]
    }
   ],
   "source": [
    "image = [dataset_train.load_image(image_id).astype(\n",
    "    np.float16) for image_id in dataset_train.image_ids]\n",
    "masks = []\n",
    "for image_id in dataset_train.image_ids:\n",
    "    mask, classes = dataset_train.load_mask(image_id)\n",
    "\n",
    "    # Treshold the segmentation images to get b&w alpha mask\n",
    "    mask_treshold = np.expand_dims(\n",
    "        np.where(mask[:, :, 0] > 0, 255, 0).astype(np.float16),\n",
    "        axis=3)\n",
    "    masks.append(mask_treshold)"
   ]
  },
  {
   "cell_type": "markdown",
   "metadata": {},
   "source": [
    "### Plot a sample from the dataset 📊"
   ]
  },
  {
   "cell_type": "code",
   "execution_count": 5,
   "metadata": {
    "scrolled": true
   },
   "outputs": [
    {
     "data": {
      "image/png": "[encoded data removed]",
      "text/plain": [
       "<Figure size 1440x1440 with 2 Axes>"
      ]
     },
     "metadata": {
      "needs_background": "light"
     },
     "output_type": "display_data"
    }
   ],
   "source": [
    "fig=plt.figure(figsize=(20, 20))\n",
    "\n",
    "random_selector = np.random.randint(len(dataset_train.image_ids))\n",
    "\n",
    "fig.add_subplot(4, 1, 1)\n",
    "plt.imshow(image[random_selector].astype(np.uint8))\n",
    "plt.xlabel(\"Input (X)\")\n",
    "\n",
    "fig.add_subplot(4, 2, 2)\n",
    "plt.imshow(masks[random_selector][:,:,0].astype(np.uint8), cmap='gray')\n",
    "plt.xlabel(\"Output (Y)\")\n",
    "\n",
    "plt.show()"
   ]
  },
  {
   "cell_type": "markdown",
   "metadata": {},
   "source": [
    "### Create the U-network model instance and print the summary"
   ]
  },
  {
   "cell_type": "code",
   "execution_count": 6,
   "metadata": {},
   "outputs": [
    {
     "name": "stdout",
     "output_type": "stream",
     "text": [
      "Model: \"Unet\"\n",
      "_________________________________________________________________\n",
      "Layer (type)                 Output Shape              Param #   \n",
      "=================================================================\n",
      "conv2d (Conv2D)              multiple                  1792      \n",
      "_________________________________________________________________\n",
      "conv2d_1 (Conv2D)            multiple                  36928     \n",
      "_________________________________________________________________\n",
      "max_pooling2d (MaxPooling2D) multiple                  0         \n",
      "_________________________________________________________________\n",
      "conv2d_2 (Conv2D)            multiple                  73856     \n",
      "_________________________________________________________________\n",
      "conv2d_3 (Conv2D)            multiple                  147584    \n",
      "_________________________________________________________________\n",
      "max_pooling2d_1 (MaxPooling2 multiple                  0         \n",
      "_________________________________________________________________\n",
      "conv2d_4 (Conv2D)            multiple                  295168    \n",
      "_________________________________________________________________\n",
      "conv2d_5 (Conv2D)            multiple                  590080    \n",
      "_________________________________________________________________\n",
      "max_pooling2d_2 (MaxPooling2 multiple                  0         \n",
      "_________________________________________________________________\n",
      "conv2d_6 (Conv2D)            multiple                  1180160   \n",
      "_________________________________________________________________\n",
      "conv2d_7 (Conv2D)            multiple                  2359808   \n",
      "_________________________________________________________________\n",
      "dropout (Dropout)            multiple                  0         \n",
      "_________________________________________________________________\n",
      "max_pooling2d_3 (MaxPooling2 multiple                  0         \n",
      "_________________________________________________________________\n",
      "conv2d_8 (Conv2D)            multiple                  4719616   \n",
      "_________________________________________________________________\n",
      "conv2d_9 (Conv2D)            multiple                  9438208   \n",
      "_________________________________________________________________\n",
      "dropout_1 (Dropout)          multiple                  0         \n",
      "_________________________________________________________________\n",
      "up_sampling2d (UpSampling2D) multiple                  0         \n",
      "_________________________________________________________________\n",
      "conv2d_10 (Conv2D)           multiple                  4719104   \n",
      "_________________________________________________________________\n",
      "conv2d_11 (Conv2D)           multiple                  4719104   \n",
      "_________________________________________________________________\n",
      "conv2d_12 (Conv2D)           multiple                  2359808   \n",
      "_________________________________________________________________\n",
      "up_sampling2d_1 (UpSampling2 multiple                  0         \n",
      "_________________________________________________________________\n",
      "conv2d_13 (Conv2D)           multiple                  1179904   \n",
      "_________________________________________________________________\n",
      "conv2d_14 (Conv2D)           multiple                  1179904   \n",
      "_________________________________________________________________\n",
      "conv2d_15 (Conv2D)           multiple                  590080    \n",
      "_________________________________________________________________\n",
      "up_sampling2d_2 (UpSampling2 multiple                  0         \n",
      "_________________________________________________________________\n",
      "conv2d_16 (Conv2D)           multiple                  131200    \n",
      "_________________________________________________________________\n",
      "conv2d_17 (Conv2D)           multiple                  295040    \n",
      "_________________________________________________________________\n",
      "conv2d_18 (Conv2D)           multiple                  147584    \n",
      "_________________________________________________________________\n",
      "up_sampling2d_3 (UpSampling2 multiple                  0         \n",
      "_________________________________________________________________\n",
      "conv2d_19 (Conv2D)           multiple                  32832     \n",
      "_________________________________________________________________\n",
      "conv2d_20 (Conv2D)           multiple                  73792     \n",
      "_________________________________________________________________\n",
      "conv2d_21 (Conv2D)           multiple                  36928     \n",
      "_________________________________________________________________\n",
      "conv2d_22 (Conv2D)           multiple                  1154      \n",
      "_________________________________________________________________\n",
      "conv2d_23 (Conv2D)           multiple                  3         \n",
      "=================================================================\n",
      "Total params: 34,309,637\n",
      "Trainable params: 34,309,637\n",
      "Non-trainable params: 0\n",
      "_________________________________________________________________\n"
     ]
    }
   ],
   "source": [
    "unet = UNet()\n",
    "unet.compile(optimizer=\"adam\",\n",
    "             loss=\"binary_crossentropy\",\n",
    "             metrics=[\"accuracy\"])\n",
    "unet.build((None, IMAGE_HEIGHT, IMAGE_WIDTH, NUM_CHANNELS))\n",
    "unet.summary()"
   ]
  },
  {
   "cell_type": "markdown",
   "metadata": {},
   "source": [
    "### Small utility class to plot training accuracy the Keras way 🛠"
   ]
  },
  {
   "cell_type": "code",
   "execution_count": 11,
   "metadata": {},
   "outputs": [],
   "source": [
    "class PlotCallbacks(keras.callbacks.Callback):\n",
    "    def on_train_begin(self, logs={}):\n",
    "        self.accs = []\n",
    "        self.acc_avg = []\n",
    "\n",
    "    def on_batch_end(self, batch, logs={}):\n",
    "        self.accs.append(round(1e2*float(logs.get('accuracy')),4))\n",
    "        self.acc_avg.append(round(np.mean(self.accs,dtype=np.float64),4))\n",
    "    \n",
    "    def on_train_end(self, logs={}):\n",
    "        plt.plot(self.acc_avg)\n",
    "        plt.xlabel(\"Batch\")\n",
    "        plt.ylabel(\"Accuracy\")\n",
    "        plt.show()"
   ]
  },
  {
   "cell_type": "markdown",
   "metadata": {},
   "source": [
    "# Train 👟"
   ]
  },
  {
   "cell_type": "code",
   "execution_count": 12,
   "metadata": {},
   "outputs": [
    {
     "name": "stdout",
     "output_type": "stream",
     "text": [
      "Train on 100 samples\n",
      "100/100 [==============================] - 459s 5s/sample - loss: 314.1757 - accuracy: 0.9201\n"
     ]
    },
    {
     "data": {
      "image/png": "[encoded data removed]",
      "text/plain": [
       "<Figure size 432x288 with 1 Axes>"
      ]
     },
     "metadata": {
      "needs_background": "light"
     },
     "output_type": "display_data"
    }
   ],
   "source": [
    "history = unet.fit(np.array(image),  # X\n",
    "                   np.array(masks),  # Y\n",
    "                   batch_size=BATCH_SIZE,\n",
    "                   epochs=NUM_EPOCHS,\n",
    "                   callbacks=[PlotCallbacks()],\n",
    "                   verbose=1)"
   ]
  }
 ],
 "metadata": {
  "kernelspec": {
   "display_name": "Python 3",
   "language": "python",
   "name": "python3"
  },
  "language_info": {
   "codemirror_mode": {
    "name": "ipython",
    "version": 3
   },
   "file_extension": ".py",
   "mimetype": "text/x-python",
   "name": "python",
   "nbconvert_exporter": "python",
   "pygments_lexer": "ipython3",
   "version": "3.6.8"
  }
 },
 "nbformat": 4,
 "nbformat_minor": 2
}
