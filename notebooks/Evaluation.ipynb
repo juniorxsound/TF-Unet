{
 "cells": [
  {
   "cell_type": "markdown",
   "metadata": {},
   "source": [
    "### Imports 🛂"
   ]
  },
  {
   "cell_type": "code",
   "execution_count": 1,
   "metadata": {},
   "outputs": [],
   "source": [
    "# Add root project folder to path\n",
    "import sys\n",
    "sys.path.append('../')\n",
    "\n",
    "# Dependencies\n",
    "import numpy as np\n",
    "from datetime import datetime\n",
    "from tensorflow import keras\n",
    "import matplotlib.pyplot as plt\n",
    "%matplotlib inline\n",
    "\n",
    "# Components\n",
    "from unet.dataset import ShapesDataset\n",
    "from unet.unet import UNet"
   ]
  },
  {
   "cell_type": "markdown",
   "metadata": {},
   "source": [
    "### Define some of the training parameters 🏋"
   ]
  },
  {
   "cell_type": "code",
   "execution_count": 4,
   "metadata": {},
   "outputs": [],
   "source": [
    "EVAL_NUM_EXAMPLES = 10\n",
    "IMAGE_WIDTH, IMAGE_HEIGHT, NUM_CHANNELS = 256, 256, 3\n",
    "NUM_EPOCHS = 1\n",
    "BATCH_SIZE = 1\n",
    "WEIGHTS = \"../weights/tf_unet_toy_network\""
   ]
  },
  {
   "cell_type": "markdown",
   "metadata": {},
   "source": [
    "### Create the synthetic evaluation dataset 🧪\n",
    "Dataset module thanks to [Mask-RCNN](https://github.com/matterport/Mask_RCNN/blob/master/samples/shapes/train_shapes.ipynb) by Matterport"
   ]
  },
  {
   "cell_type": "code",
   "execution_count": 5,
   "metadata": {},
   "outputs": [],
   "source": [
    "dataset_eval = ShapesDataset()\n",
    "dataset_eval.load_shapes(EVAL_NUM_EXAMPLES, IMAGE_HEIGHT, IMAGE_WIDTH)\n",
    "dataset_eval.prepare()"
   ]
  },
  {
   "cell_type": "markdown",
   "metadata": {},
   "source": [
    "### Organize the dataset into two numpy arrays ✈ \n",
    "And treshold the segmentation masks to get an alpha image"
   ]
  },
  {
   "cell_type": "code",
   "execution_count": 6,
   "metadata": {},
   "outputs": [
    {
     "name": "stderr",
     "output_type": "stream",
     "text": [
      "/usr/local/lib/python3.6/dist-packages/ipykernel_launcher.py:10: DeprecationWarning: Both axis > a.ndim and axis < -a.ndim - 1 are deprecated and will raise an AxisError in the future.\n",
      "  # Remove the CWD from sys.path while we load stuff.\n"
     ]
    }
   ],
   "source": [
    "image = [dataset_eval.load_image(image_id).astype(\n",
    "    np.float32) / 255 for image_id in dataset_eval.image_ids]\n",
    "masks = []\n",
    "for image_id in dataset_eval.image_ids:\n",
    "    mask, classes = dataset_eval.load_mask(image_id)\n",
    "\n",
    "    # Treshold the segmentation images to get b&w alpha mask\n",
    "    mask_treshold = np.expand_dims(\n",
    "        np.where(mask[:, :, 0] > 0, 255, 0).astype(np.float16),\n",
    "        axis=3) / 255\n",
    "    masks.append(mask_treshold)"
   ]
  },
  {
   "cell_type": "markdown",
   "metadata": {},
   "source": [
    "### Plot a sample from the dataset 📊"
   ]
  },
  {
   "cell_type": "code",
   "execution_count": 10,
   "metadata": {
    "scrolled": false
   },
   "outputs": [
    {
     "data": {
      "image/png": "[encoded data removed]",
      "text/plain": [
       "<Figure size 1440x1440 with 2 Axes>"
      ]
     },
     "metadata": {
      "needs_background": "light"
     },
     "output_type": "display_data"
    }
   ],
   "source": [
    "fig=plt.figure(figsize=(20, 20))\n",
    "\n",
    "random_selector = np.random.randint(len(dataset_eval.image_ids))\n",
    "\n",
    "fig.add_subplot(4, 1, 1)\n",
    "plt.imshow(image[random_selector])\n",
    "plt.xlabel(\"Input (X)\")\n",
    "\n",
    "fig.add_subplot(4, 2, 2)\n",
    "plt.imshow(masks[random_selector][:,:,0].astype(np.uint8), cmap='gray')\n",
    "plt.xlabel(\"Output (Y)\")\n",
    "\n",
    "plt.show()"
   ]
  },
  {
   "cell_type": "markdown",
   "metadata": {},
   "source": [
    "### Create the U-network model instance and print the summary"
   ]
  },
  {
   "cell_type": "code",
   "execution_count": 14,
   "metadata": {},
   "outputs": [
    {
     "data": {
      "text/plain": [
       "<tensorflow.python.training.tracking.util.CheckpointLoadStatus at 0x7f56477fbf60>"
      ]
     },
     "execution_count": 14,
     "metadata": {},
     "output_type": "execute_result"
    }
   ],
   "source": [
    "unet = UNet()\n",
    "unet.compile(optimizer=\"adam\",\n",
    "             loss=\"binary_crossentropy\",\n",
    "             metrics=[\"accuracy\"])\n",
    "unet.build((None, IMAGE_HEIGHT, IMAGE_WIDTH, NUM_CHANNELS))\n",
    "unet.load_weights(WEIGHTS)"
   ]
  },
  {
   "cell_type": "markdown",
   "metadata": {},
   "source": [
    "### Evaluate the U-network"
   ]
  },
  {
   "cell_type": "code",
   "execution_count": 16,
   "metadata": {},
   "outputs": [
    {
     "name": "stdout",
     "output_type": "stream",
     "text": [
      "\r",
      "10/1 [============================================================================================================================================================================================================================================================================================================] - 10s 1s/sample - loss: 0.3711 - accuracy: 0.9089\n"
     ]
    }
   ],
   "source": [
    "loss, acc = unet.evaluate(np.array(image), np.array(masks))"
   ]
  },
  {
   "cell_type": "code",
   "execution_count": 17,
   "metadata": {},
   "outputs": [
    {
     "name": "stdout",
     "output_type": "stream",
     "text": [
      "Restored model and ran evaluation, accuracy: 90.89%\n"
     ]
    }
   ],
   "source": [
    "print(\"Restored model and ran evaluation, accuracy: {:5.2f}%\".format(100*acc))"
   ]
  }
 ],
 "metadata": {
  "kernelspec": {
   "display_name": "Python 3",
   "language": "python",
   "name": "python3"
  },
  "language_info": {
   "codemirror_mode": {
    "name": "ipython",
    "version": 3
   },
   "file_extension": ".py",
   "mimetype": "text/x-python",
   "name": "python",
   "nbconvert_exporter": "python",
   "pygments_lexer": "ipython3",
   "version": "3.6.8"
  }
 },
 "nbformat": 4,
 "nbformat_minor": 2
}
